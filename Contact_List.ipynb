{
 "cells": [
  {
   "cell_type": "code",
   "execution_count": 8,
   "id": "98fb0cb5-dc40-4fcd-84a5-36f8774bcaf5",
   "metadata": {},
   "outputs": [
    {
     "name": "stdin",
     "output_type": "stream",
     "text": [
      "1. Insert New Contact\n",
      " 2. Search Contact\n",
      " 3. Update Contact\n",
      " 4. Delete Contact\n",
      " 5. Exit\n",
      " 1\n",
      "\n",
      " Enter Name:  we\n",
      "Input Phone Number:  344\n"
     ]
    },
    {
     "name": "stdout",
     "output_type": "stream",
     "text": [
      "Name:  Phone Number\n",
      "we:  344\n",
      "\n"
     ]
    },
    {
     "name": "stdin",
     "output_type": "stream",
     "text": [
      "1. Insert New Contact\n",
      " 2. Search Contact\n",
      " 3. Update Contact\n",
      " 4. Delete Contact\n",
      " 5. Exit\n",
      " 1\n",
      "\n",
      " Enter Name:  ww\n",
      "Input Phone Number:  345\n"
     ]
    },
    {
     "name": "stdout",
     "output_type": "stream",
     "text": [
      "Name:  Phone Number\n",
      "we:  344\n",
      "ww:  345\n",
      "\n"
     ]
    },
    {
     "name": "stdin",
     "output_type": "stream",
     "text": [
      "1. Insert New Contact\n",
      " 2. Search Contact\n",
      " 3. Update Contact\n",
      " 4. Delete Contact\n",
      " 5. Exit\n",
      " 2\n",
      "\n",
      " Enter Contact Name:  ww\n"
     ]
    },
    {
     "name": "stdout",
     "output_type": "stream",
     "text": [
      "ww 's phone number is 345\n"
     ]
    },
    {
     "name": "stdin",
     "output_type": "stream",
     "text": [
      "1. Insert New Contact\n",
      " 2. Search Contact\n",
      " 3. Update Contact\n",
      " 4. Delete Contact\n",
      " 5. Exit\n",
      " 5\n"
     ]
    }
   ],
   "source": [
    "contact = {}\n",
    "\n",
    "def display():\n",
    "    print('Name:  Phone Number')\n",
    "    for key in contact:\n",
    "        print(f'{key}:  {contact.get(key)}')\n",
    "        \n",
    "while True:\n",
    "    choice = int(input('1. Insert New Contact\\n 2. Search Contact\\n 3. Updat Contact\\n 4. Delete Contact\\n 5. Exit\\n'))\n",
    "    \n",
    "    if choice == 1:\n",
    "        name = input('\\n Enter Name: ')\n",
    "        phone_no = input('Input Phone Number: ')\n",
    "        contact[name] = phone_no  # Storing name as key, phone_no as value\n",
    "        display()\n",
    "        print()\n",
    "\n",
    "    elif choice == 2:\n",
    "        search = input('\\n Enter Contact Name: ')\n",
    "        if search in contact:\n",
    "            print(search,\"'s phone number is\", contact[search])\n",
    "        else:\n",
    "            print('Name not found!')\n",
    "            print()\n",
    "\n",
    "    elif choice == 3:\n",
    "        edit = input('\\n Enter the name to edit: ')\n",
    "        if edit in contact:\n",
    "            new_no = input('Enter new number: ')\n",
    "            contact[edit] = new_no # Editing phone no for the name\n",
    "            print('Contact Edited')\n",
    "            display()\n",
    "        else:\n",
    "            print('Phone number not found!')\n",
    "            print()\n",
    "\n",
    "    elif choice == 4:\n",
    "        delete = input('\\n Enter the name to delete: ')\n",
    "        if delete in contact:\n",
    "            contact.pop(delete)\n",
    "            print('Contact Deleted')\n",
    "            display()\n",
    "        else:\n",
    "            print('Phone number not found!')\n",
    "            print()\n",
    "\n",
    "    elif choice == 5:\n",
    "        break\n",
    "\n",
    "    else:\n",
    "        print(\"Invalid choice! Please enter a number between 1 and 5.\")\n",
    "        \n"
   ]
  },
  {
   "cell_type": "code",
   "execution_count": null,
   "id": "64b1c377-b71b-4395-8507-1a83f5edb6b4",
   "metadata": {},
   "outputs": [],
   "source": []
  }
 ],
 "metadata": {
  "kernelspec": {
   "display_name": "Python 3 (ipykernel)",
   "language": "python",
   "name": "python3"
  },
  "language_info": {
   "codemirror_mode": {
    "name": "ipython",
    "version": 3
   },
   "file_extension": ".py",
   "mimetype": "text/x-python",
   "name": "python",
   "nbconvert_exporter": "python",
   "pygments_lexer": "ipython3",
   "version": "3.12.4"
  }
 },
 "nbformat": 4,
 "nbformat_minor": 5
}
